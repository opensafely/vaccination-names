{
 "cells": [
  {
   "cell_type": "code",
   "execution_count": null,
   "id": "c78b08b2",
   "metadata": {},
   "outputs": [],
   "source": [
    "import csv\n",
    "from pathlib import Path\n",
    "from datetime import date, datetime\n",
    "\n",
    "import pandas as pd\n",
    "from IPython.display import display, Markdown"
   ]
  },
  {
   "cell_type": "code",
   "execution_count": null,
   "id": "4ba67cc9",
   "metadata": {},
   "outputs": [],
   "source": [
    "Markdown(\n",
    "\"\"\"\n",
    "# Vaccinaton names in the OpenSAFELY-TPP database\n",
    "\n",
    "This notebook provides a list of vaccination names available in the OpenSAFELY-TPP database.\n",
    "\n",
    "These names can be used as the `product_name_matches` argument in `patients.with_tpp_vaccinations()`.\n",
    "\n",
    "See [the documentation](https://docs.opensafely.org/study-def-variables/#cohortextractor.patients.with_tpp_vaccination_record) for further details.\n",
    "\"\"\"\n",
    ")"
   ]
  },
  {
   "cell_type": "code",
   "execution_count": null,
   "id": "b4b4370b",
   "metadata": {},
   "outputs": [],
   "source": [
    "pt = Path(\"../output/vaccination_names.csv\")\n",
    "# get data extraction date\n",
    "extract_date = datetime.fromtimestamp(pt.lstat().st_mtime)\n",
    "# get notebook run date\n",
    "run_date = date.today()"
   ]
  },
  {
   "cell_type": "code",
   "execution_count": null,
   "id": "dffe444d",
   "metadata": {},
   "outputs": [],
   "source": [
    "Markdown(\n",
    "f\"\"\"\n",
    "This notebook was run on {run_date}. \n",
    "The information below is based on data extracted from the OpenSAFELY-TPP database on {extract_date.strftime('%Y-%m-%d')}.\n",
    "\"\"\"\n",
    ")"
   ]
  },
  {
   "cell_type": "code",
   "execution_count": null,
   "id": "682b7ee0",
   "metadata": {},
   "outputs": [],
   "source": [
    "pd.read_csv(pt)"
   ]
  }
 ],
 "metadata": {
  "kernelspec": {
   "display_name": "Python 3 (ipykernel)",
   "language": "python",
   "name": "python3"
  },
  "language_info": {
   "codemirror_mode": {
    "name": "ipython",
    "version": 3
   },
   "file_extension": ".py",
   "mimetype": "text/x-python",
   "name": "python",
   "nbconvert_exporter": "python",
   "pygments_lexer": "ipython3",
   "version": "3.9.15"
  }
 },
 "nbformat": 4,
 "nbformat_minor": 5
}
